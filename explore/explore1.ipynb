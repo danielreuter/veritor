{
 "cells": [
  {
   "cell_type": "code",
   "execution_count": 2,
   "id": "90fdde79",
   "metadata": {},
   "outputs": [
    {
     "name": "stdout",
     "output_type": "stream",
     "text": [
      "=== StableHLO ===\n",
      "module @jit_compute_with_metadata attributes {mhlo.num_partitions = 1 : i32, mhlo.num_replicas = 1 : i32} {\n",
      "  func.func public @main(%arg0: tensor<3xf32>) -> (tensor<3xf32> {jax.result_info = \"result\"}) {\n",
      "    %0 = stablehlo.sine %arg0 {mhlo.frontend_attributes = {challengeable = \"true\", operation_id = \"op_001\"}} : tensor<3xf32>\n",
      "    %1 = stablehlo.cosine %0 {mhlo.frontend_attributes = {challengeable = \"true\", operation_id = \"op_002\"}} : tensor<3xf32>\n",
      "    %2 = stablehlo.add %0, %1 {mhlo.frontend_attributes = {challengeable = \"true\", operation_id = \"op_003\"}} : tensor<3xf32>\n",
      "    return %2 : tensor<3xf32>\n",
      "  }\n",
      "}\n",
      "\n",
      "\n",
      "=== HLO ===\n",
      "HloModule jit_compute_with_metadata, is_scheduled=true, entry_computation_layout={(f32[3]{0})->f32[3]{0}}, allow_spmd_sharding_propagation_to_parameters={true}, allow_spmd_sharding_propagation_to_output={true}\n",
      "\n",
      "%fused_computation (param_0.1: f32[3]) -> f32[3] {\n",
      "  %param_0.1 = f32[3]{0} parameter(0)\n",
      "  %sin.0 = f32[3]{0} sine(%param_0.1), frontend_attributes={challengeable=\"true\",operation_id=\"op_001\"}, metadata={op_name=\"jit(compute_with_metadata)/sin\" source_file=\"/var/folders/kf/gf94gn2s6471sygng_fvpmv00000gn/T/ipykernel_31468/4293337760.py\" source_line=11 source_end_line=11 source_column=16 source_end_column=26}\n",
      "  %cos.0 = f32[3]{0} cosine(%sin.0), frontend_attributes={challengeable=\"true\",operation_id=\"op_002\"}, metadata={op_name=\"jit(compute_with_metadata)/cos\" source_file=\"/var/folders/kf/gf94gn2s6471sygng_fvpmv00000gn/T/ipykernel_31468/4293337760.py\" source_line=14 source_end_line=14 source_column=16 source_end_column=26}\n",
      "  ROOT %add.0 = f32[3]{0} add(%sin.0, %cos.0), frontend_at\n",
      "\n",
      "=== Metadata search ===\n",
      "'operation_id' in StableHLO: True\n",
      "'challengeable' in StableHLO: True\n",
      "'op_001' in StableHLO: True\n"
     ]
    }
   ],
   "source": [
    "import jax\n",
    "import jax.numpy as jnp\n",
    "from jax.experimental.xla_metadata import set_xla_metadata\n",
    "\n",
    "def test_metadata_preservation():\n",
    "    \"\"\"Test what actually survives through JAX compilation.\"\"\"\n",
    "    \n",
    "    @jax.jit\n",
    "    def compute_with_metadata(x):\n",
    "        with set_xla_metadata(operation_id=\"op_001\", challengeable=\"true\"):\n",
    "            y = jnp.sin(x)\n",
    "        \n",
    "        with set_xla_metadata(operation_id=\"op_002\", challengeable=\"true\"):\n",
    "            z = jnp.cos(y)\n",
    "        \n",
    "        with set_xla_metadata(operation_id=\"op_003\", challengeable=\"true\"):\n",
    "            result = y + z\n",
    "        \n",
    "        return result\n",
    "    \n",
    "    # Compile and get StableHLO\n",
    "    x = jnp.array([1.0, 2.0, 3.0])\n",
    "    lowered = compute_with_metadata.lower(x)\n",
    "    \n",
    "    # Check different representations\n",
    "    print(\"=== StableHLO ===\")\n",
    "    stablehlo_text = lowered.as_text(dialect=\"stablehlo\")\n",
    "    print(stablehlo_text[:1000])  # First 1000 chars\n",
    "    \n",
    "    print(\"\\n=== HLO ===\")\n",
    "    hlo_text = lowered.compile().as_text()\n",
    "    print(hlo_text[:1000])\n",
    "    \n",
    "    # Check if our metadata appears anywhere\n",
    "    print(\"\\n=== Metadata search ===\")\n",
    "    print(f\"'operation_id' in StableHLO: {'operation_id' in stablehlo_text}\")\n",
    "    print(f\"'challengeable' in StableHLO: {'challengeable' in stablehlo_text}\")\n",
    "    print(f\"'op_001' in StableHLO: {'op_001' in stablehlo_text}\")\n",
    "    \n",
    "    return stablehlo_text, hlo_text\n",
    "\n",
    "# Run the test\n",
    "stablehlo, hlo = test_metadata_preservation()"
   ]
  },
  {
   "cell_type": "code",
   "execution_count": 4,
   "id": "3c38c3f5",
   "metadata": {},
   "outputs": [
    {
     "data": {
      "text/plain": [
       "Array([4.], dtype=float32)"
      ]
     },
     "execution_count": 4,
     "metadata": {},
     "output_type": "execute_result"
    }
   ],
   "source": [
    "def glug(z):\n",
    "    return z + 1\n",
    "\n",
    "def foo(x):\n",
    "    return x + 2 \n",
    "\n",
    "@jax.jit\n",
    "def main(x):\n",
    "    y = foo(x)\n",
    "    z = glug(y)\n",
    "    return z\n",
    "\n",
    "x = jnp.array([1.0])\n",
    "main(x)"
   ]
  },
  {
   "cell_type": "code",
   "execution_count": null,
   "id": "315bbee9",
   "metadata": {},
   "outputs": [],
   "source": [
    "@jax.jit\n",
    "def simple_test(x):\n",
    "    with set_xla_metadata(my_custom_attr=\"test_value\"):\n",
    "        return x * 2\n",
    "\n",
    "x = jnp.array([1.0])\n",
    "lowered = simple_test.lower(x)\n",
    "\n",
    "print(\"Full StableHLO:\")\n",
    "print(lowered.as_text(dialect=\"stablehlo\"))\n",
    "\n",
    "print(\"\\nFull HLO:\")\n",
    "print(lowered.compile().as_text())"
   ]
  },
  {
   "cell_type": "code",
   "execution_count": null,
   "id": "1ca4307f",
   "metadata": {},
   "outputs": [],
   "source": [
    "\n"
   ]
  }
 ],
 "metadata": {
  "kernelspec": {
   "display_name": ".venv",
   "language": "python",
   "name": "python3"
  },
  "language_info": {
   "codemirror_mode": {
    "name": "ipython",
    "version": 3
   },
   "file_extension": ".py",
   "mimetype": "text/x-python",
   "name": "python",
   "nbconvert_exporter": "python",
   "pygments_lexer": "ipython3",
   "version": "3.12.11"
  }
 },
 "nbformat": 4,
 "nbformat_minor": 5
}
